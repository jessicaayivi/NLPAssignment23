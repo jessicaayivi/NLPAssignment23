{
 "cells": [
  {
   "cell_type": "markdown",
   "id": "offensive-possession",
   "metadata": {},
   "source": [
    "# Assignment 23 Jessica Ayivi"
   ]
  },
  {
   "cell_type": "code",
   "execution_count": 27,
   "id": "ancient-administrator",
   "metadata": {},
   "outputs": [],
   "source": [
    "import numpy as np\n",
    "import pandas as pd\n",
    "from sklearn.model_selection import train_test_split\n",
    "from sklearn.feature_extraction.text import TfidfVectorizer\n",
    "from sklearn.metrics import accuracy_score, confusion_matrix, classification_report, plot_roc_curve\n",
    "import matplotlib.pyplot as plt"
   ]
  },
  {
   "cell_type": "code",
   "execution_count": 28,
   "id": "musical-avatar",
   "metadata": {},
   "outputs": [
    {
     "data": {
      "text/html": [
       "<div>\n",
       "<style scoped>\n",
       "    .dataframe tbody tr th:only-of-type {\n",
       "        vertical-align: middle;\n",
       "    }\n",
       "\n",
       "    .dataframe tbody tr th {\n",
       "        vertical-align: top;\n",
       "    }\n",
       "\n",
       "    .dataframe thead th {\n",
       "        text-align: right;\n",
       "    }\n",
       "</style>\n",
       "<table border=\"1\" class=\"dataframe\">\n",
       "  <thead>\n",
       "    <tr style=\"text-align: right;\">\n",
       "      <th></th>\n",
       "      <th>ID</th>\n",
       "      <th>keywords</th>\n",
       "      <th>age</th>\n",
       "      <th>sex</th>\n",
       "    </tr>\n",
       "  </thead>\n",
       "  <tbody>\n",
       "    <tr>\n",
       "      <th>1</th>\n",
       "      <td>361410</td>\n",
       "      <td>forum:3;contrat:1;calcul:3;conges:1;mission:4;...</td>\n",
       "      <td>47</td>\n",
       "      <td>M</td>\n",
       "    </tr>\n",
       "    <tr>\n",
       "      <th>2</th>\n",
       "      <td>211450</td>\n",
       "      <td>villa:1;location:2;aquitaine:2;maison:1;vacanc...</td>\n",
       "      <td>61</td>\n",
       "      <td>F</td>\n",
       "    </tr>\n",
       "    <tr>\n",
       "      <th>3</th>\n",
       "      <td>1368807</td>\n",
       "      <td>trafic:1;tournante:1;drogue:1;france:1;plaque:...</td>\n",
       "      <td>45</td>\n",
       "      <td>M</td>\n",
       "    </tr>\n",
       "    <tr>\n",
       "      <th>4</th>\n",
       "      <td>3502570</td>\n",
       "      <td>trafic:1;septembre:1;greve:1;sncf:1;sortir:1;p...</td>\n",
       "      <td>22</td>\n",
       "      <td>M</td>\n",
       "    </tr>\n",
       "    <tr>\n",
       "      <th>5</th>\n",
       "      <td>2027488</td>\n",
       "      <td>darmanin:1;pour:1;ferme:1;jcms:1;conjoncture:1...</td>\n",
       "      <td>55</td>\n",
       "      <td>M</td>\n",
       "    </tr>\n",
       "    <tr>\n",
       "      <th>...</th>\n",
       "      <td>...</td>\n",
       "      <td>...</td>\n",
       "      <td>...</td>\n",
       "      <td>...</td>\n",
       "    </tr>\n",
       "    <tr>\n",
       "      <th>999993</th>\n",
       "      <td>878235</td>\n",
       "      <td>prenoms:1;prenom:1;aidan:1</td>\n",
       "      <td>33</td>\n",
       "      <td>F</td>\n",
       "    </tr>\n",
       "    <tr>\n",
       "      <th>999994</th>\n",
       "      <td>730507</td>\n",
       "      <td>programme:1;hemorroides:1;moix:1;symptomes:1;c...</td>\n",
       "      <td>43</td>\n",
       "      <td>M</td>\n",
       "    </tr>\n",
       "    <tr>\n",
       "      <th>999996</th>\n",
       "      <td>1351077</td>\n",
       "      <td>comment:1;faq:1;choisir:1;velo:1;avec:1;joueur...</td>\n",
       "      <td>53</td>\n",
       "      <td>M</td>\n",
       "    </tr>\n",
       "    <tr>\n",
       "      <th>999997</th>\n",
       "      <td>40194</td>\n",
       "      <td>salon:1;clash:1;maman:5;gout:1;doues:1;addicti...</td>\n",
       "      <td>54</td>\n",
       "      <td>F</td>\n",
       "    </tr>\n",
       "    <tr>\n",
       "      <th>999998</th>\n",
       "      <td>120760</td>\n",
       "      <td>obseques:1;flash:2;policier:1;macron:1;chez:1;...</td>\n",
       "      <td>32</td>\n",
       "      <td>F</td>\n",
       "    </tr>\n",
       "  </tbody>\n",
       "</table>\n",
       "<p>883490 rows × 4 columns</p>\n",
       "</div>"
      ],
      "text/plain": [
       "             ID                                           keywords  age sex\n",
       "1        361410  forum:3;contrat:1;calcul:3;conges:1;mission:4;...   47   M\n",
       "2        211450  villa:1;location:2;aquitaine:2;maison:1;vacanc...   61   F\n",
       "3       1368807  trafic:1;tournante:1;drogue:1;france:1;plaque:...   45   M\n",
       "4       3502570  trafic:1;septembre:1;greve:1;sncf:1;sortir:1;p...   22   M\n",
       "5       2027488  darmanin:1;pour:1;ferme:1;jcms:1;conjoncture:1...   55   M\n",
       "...         ...                                                ...  ...  ..\n",
       "999993   878235                         prenoms:1;prenom:1;aidan:1   33   F\n",
       "999994   730507  programme:1;hemorroides:1;moix:1;symptomes:1;c...   43   M\n",
       "999996  1351077  comment:1;faq:1;choisir:1;velo:1;avec:1;joueur...   53   M\n",
       "999997    40194  salon:1;clash:1;maman:5;gout:1;doues:1;addicti...   54   F\n",
       "999998   120760  obseques:1;flash:2;policier:1;macron:1;chez:1;...   32   F\n",
       "\n",
       "[883490 rows x 4 columns]"
      ]
     },
     "execution_count": 28,
     "metadata": {},
     "output_type": "execute_result"
    }
   ],
   "source": [
    "#import and remove missing values dataset \n",
    "df=pd.read_csv(\"C:/Users/Administrateur/OneDrive/Bureau/ESCPTerm2/NLP/small_train.csv\")#[883490 rows x 4 columns]\n",
    "df.dropna(inplace=True)\n",
    "df"
   ]
  },
  {
   "cell_type": "code",
   "execution_count": 29,
   "id": "aquatic-lancaster",
   "metadata": {},
   "outputs": [
    {
     "data": {
      "text/html": [
       "<div>\n",
       "<style scoped>\n",
       "    .dataframe tbody tr th:only-of-type {\n",
       "        vertical-align: middle;\n",
       "    }\n",
       "\n",
       "    .dataframe tbody tr th {\n",
       "        vertical-align: top;\n",
       "    }\n",
       "\n",
       "    .dataframe thead th {\n",
       "        text-align: right;\n",
       "    }\n",
       "</style>\n",
       "<table border=\"1\" class=\"dataframe\">\n",
       "  <thead>\n",
       "    <tr style=\"text-align: right;\">\n",
       "      <th></th>\n",
       "      <th>ID</th>\n",
       "      <th>keywords</th>\n",
       "      <th>age</th>\n",
       "      <th>sex</th>\n",
       "    </tr>\n",
       "  </thead>\n",
       "  <tbody>\n",
       "    <tr>\n",
       "      <th>1</th>\n",
       "      <td>361410</td>\n",
       "      <td>forum:3;contrat:1;calcul:3;conges:1;mission:4;...</td>\n",
       "      <td>47</td>\n",
       "      <td>0</td>\n",
       "    </tr>\n",
       "    <tr>\n",
       "      <th>2</th>\n",
       "      <td>211450</td>\n",
       "      <td>villa:1;location:2;aquitaine:2;maison:1;vacanc...</td>\n",
       "      <td>61</td>\n",
       "      <td>1</td>\n",
       "    </tr>\n",
       "    <tr>\n",
       "      <th>3</th>\n",
       "      <td>1368807</td>\n",
       "      <td>trafic:1;tournante:1;drogue:1;france:1;plaque:...</td>\n",
       "      <td>45</td>\n",
       "      <td>0</td>\n",
       "    </tr>\n",
       "    <tr>\n",
       "      <th>4</th>\n",
       "      <td>3502570</td>\n",
       "      <td>trafic:1;septembre:1;greve:1;sncf:1;sortir:1;p...</td>\n",
       "      <td>22</td>\n",
       "      <td>0</td>\n",
       "    </tr>\n",
       "    <tr>\n",
       "      <th>5</th>\n",
       "      <td>2027488</td>\n",
       "      <td>darmanin:1;pour:1;ferme:1;jcms:1;conjoncture:1...</td>\n",
       "      <td>55</td>\n",
       "      <td>0</td>\n",
       "    </tr>\n",
       "    <tr>\n",
       "      <th>...</th>\n",
       "      <td>...</td>\n",
       "      <td>...</td>\n",
       "      <td>...</td>\n",
       "      <td>...</td>\n",
       "    </tr>\n",
       "    <tr>\n",
       "      <th>999993</th>\n",
       "      <td>878235</td>\n",
       "      <td>prenoms:1;prenom:1;aidan:1</td>\n",
       "      <td>33</td>\n",
       "      <td>1</td>\n",
       "    </tr>\n",
       "    <tr>\n",
       "      <th>999994</th>\n",
       "      <td>730507</td>\n",
       "      <td>programme:1;hemorroides:1;moix:1;symptomes:1;c...</td>\n",
       "      <td>43</td>\n",
       "      <td>0</td>\n",
       "    </tr>\n",
       "    <tr>\n",
       "      <th>999996</th>\n",
       "      <td>1351077</td>\n",
       "      <td>comment:1;faq:1;choisir:1;velo:1;avec:1;joueur...</td>\n",
       "      <td>53</td>\n",
       "      <td>0</td>\n",
       "    </tr>\n",
       "    <tr>\n",
       "      <th>999997</th>\n",
       "      <td>40194</td>\n",
       "      <td>salon:1;clash:1;maman:5;gout:1;doues:1;addicti...</td>\n",
       "      <td>54</td>\n",
       "      <td>1</td>\n",
       "    </tr>\n",
       "    <tr>\n",
       "      <th>999998</th>\n",
       "      <td>120760</td>\n",
       "      <td>obseques:1;flash:2;policier:1;macron:1;chez:1;...</td>\n",
       "      <td>32</td>\n",
       "      <td>1</td>\n",
       "    </tr>\n",
       "  </tbody>\n",
       "</table>\n",
       "<p>883490 rows × 4 columns</p>\n",
       "</div>"
      ],
      "text/plain": [
       "             ID                                           keywords  age  sex\n",
       "1        361410  forum:3;contrat:1;calcul:3;conges:1;mission:4;...   47    0\n",
       "2        211450  villa:1;location:2;aquitaine:2;maison:1;vacanc...   61    1\n",
       "3       1368807  trafic:1;tournante:1;drogue:1;france:1;plaque:...   45    0\n",
       "4       3502570  trafic:1;septembre:1;greve:1;sncf:1;sortir:1;p...   22    0\n",
       "5       2027488  darmanin:1;pour:1;ferme:1;jcms:1;conjoncture:1...   55    0\n",
       "...         ...                                                ...  ...  ...\n",
       "999993   878235                         prenoms:1;prenom:1;aidan:1   33    1\n",
       "999994   730507  programme:1;hemorroides:1;moix:1;symptomes:1;c...   43    0\n",
       "999996  1351077  comment:1;faq:1;choisir:1;velo:1;avec:1;joueur...   53    0\n",
       "999997    40194  salon:1;clash:1;maman:5;gout:1;doues:1;addicti...   54    1\n",
       "999998   120760  obseques:1;flash:2;policier:1;macron:1;chez:1;...   32    1\n",
       "\n",
       "[883490 rows x 4 columns]"
      ]
     },
     "execution_count": 29,
     "metadata": {},
     "output_type": "execute_result"
    }
   ],
   "source": [
    "#replacing M by 0 and F by 1\n",
    "df[\"sex\"]=df[\"sex\"].replace(\"M\",0)\n",
    "df[\"sex\"]=df[\"sex\"].replace(\"F\",1)\n",
    "#or df['sex'] = data.sex.map({'M': 0, 'F': 1}), but this version is too long to charge \n",
    "df"
   ]
  },
  {
   "cell_type": "markdown",
   "id": "organic-referral",
   "metadata": {},
   "source": [
    "## CLEANING TRAINING DATASET"
   ]
  },
  {
   "cell_type": "code",
   "execution_count": null,
   "id": "mysterious-watts",
   "metadata": {},
   "outputs": [],
   "source": [
    "#we can notice that a lot of words in the dataset are just creating noise, they are not necessary in our prediction algorithm\n",
    "#But while thinking about I decided to try test the prediction with and without removing stopwords becaus I thought that maybe\n",
    "#the usage of some stop specific stopwords could give us further information regarding the person which is using them\n",
    "import nltk\n",
    "from nltk.corpus import stopwords\n",
    "from nltk.stem.porter import PorterStemmer\n",
    "''''stop_words = stopwords.words()\n",
    "porter = PorterStemmer()\n",
    "def cleantext(counttext):\n",
    "    wordcounts=counttext.split(\";\")\n",
    "    text=\"\"\n",
    "    for words in wordcounts:\n",
    "        wordocr=words.split(\":\")\n",
    "        if len(wordocr)>1 and not wordocr[0] in stop_words :\n",
    "            wordocr[0]=porter.stem(wordocr[0])\n",
    "            text+=(wordocr[0]+\" \")*int(wordocr[1])\n",
    "    return text\n",
    "df=df[df[\"keywords\"].str.contains(\":\")]\n",
    "df[\"keywords\"]=df[\"keywords\"].map(lambda x: cleantext(x))"
   ]
  },
  {
   "cell_type": "code",
   "execution_count": 30,
   "id": "detailed-syndicate",
   "metadata": {},
   "outputs": [
    {
     "name": "stdout",
     "output_type": "stream",
     "text": [
      "             ID                                           keywords  age  sex\n",
      "1        361410  forum:3;contrat:1;calcul:3;conges:1;mission:4;...   47    0\n",
      "2        211450  villa:1;location:2;aquitaine:2;maison:1;vacanc...   61    1\n",
      "3       1368807  trafic:1;tournante:1;drogue:1;france:1;plaque:...   45    0\n",
      "4       3502570  trafic:1;septembre:1;greve:1;sncf:1;sortir:1;p...   22    0\n",
      "5       2027488  darmanin:1;pour:1;ferme:1;jcms:1;conjoncture:1...   55    0\n",
      "...         ...                                                ...  ...  ...\n",
      "999993   878235                         prenoms:1;prenom:1;aidan:1   33    1\n",
      "999994   730507  programme:1;hemorroides:1;moix:1;symptomes:1;c...   43    0\n",
      "999996  1351077  comment:1;faq:1;choisir:1;velo:1;avec:1;joueur...   53    0\n",
      "999997    40194  salon:1;clash:1;maman:5;gout:1;doues:1;addicti...   54    1\n",
      "999998   120760  obseques:1;flash:2;policier:1;macron:1;chez:1;...   32    1\n",
      "\n",
      "[883490 rows x 4 columns]\n"
     ]
    },
    {
     "data": {
      "text/html": [
       "<div>\n",
       "<style scoped>\n",
       "    .dataframe tbody tr th:only-of-type {\n",
       "        vertical-align: middle;\n",
       "    }\n",
       "\n",
       "    .dataframe tbody tr th {\n",
       "        vertical-align: top;\n",
       "    }\n",
       "\n",
       "    .dataframe thead th {\n",
       "        text-align: right;\n",
       "    }\n",
       "</style>\n",
       "<table border=\"1\" class=\"dataframe\">\n",
       "  <thead>\n",
       "    <tr style=\"text-align: right;\">\n",
       "      <th></th>\n",
       "      <th>ID</th>\n",
       "      <th>keywords</th>\n",
       "      <th>age</th>\n",
       "      <th>sex</th>\n",
       "    </tr>\n",
       "  </thead>\n",
       "  <tbody>\n",
       "    <tr>\n",
       "      <th>1</th>\n",
       "      <td>361410</td>\n",
       "      <td>forum:3;contrat:1;calcul:3;conges:1;mission:4;...</td>\n",
       "      <td>47</td>\n",
       "      <td>0</td>\n",
       "    </tr>\n",
       "    <tr>\n",
       "      <th>2</th>\n",
       "      <td>211450</td>\n",
       "      <td>villa:1;location:2;aquitaine:2;maison:1;vacanc...</td>\n",
       "      <td>61</td>\n",
       "      <td>1</td>\n",
       "    </tr>\n",
       "    <tr>\n",
       "      <th>3</th>\n",
       "      <td>1368807</td>\n",
       "      <td>trafic:1;tournante:1;drogue:1;france:1;plaque:...</td>\n",
       "      <td>45</td>\n",
       "      <td>0</td>\n",
       "    </tr>\n",
       "    <tr>\n",
       "      <th>4</th>\n",
       "      <td>3502570</td>\n",
       "      <td>trafic:1;septembre:1;greve:1;sncf:1;sortir:1;p...</td>\n",
       "      <td>22</td>\n",
       "      <td>0</td>\n",
       "    </tr>\n",
       "    <tr>\n",
       "      <th>5</th>\n",
       "      <td>2027488</td>\n",
       "      <td>darmanin:1;pour:1;ferme:1;jcms:1;conjoncture:1...</td>\n",
       "      <td>55</td>\n",
       "      <td>0</td>\n",
       "    </tr>\n",
       "    <tr>\n",
       "      <th>6</th>\n",
       "      <td>1416034</td>\n",
       "      <td>pinel:1;seront:1;prolonges:1;jcms:1;mais:1;p1_...</td>\n",
       "      <td>57</td>\n",
       "      <td>0</td>\n",
       "    </tr>\n",
       "    <tr>\n",
       "      <th>7</th>\n",
       "      <td>625475</td>\n",
       "      <td>ruent:1;28a86c911c0f:1;article:1;8f28:1;scpi_c...</td>\n",
       "      <td>34</td>\n",
       "      <td>1</td>\n",
       "    </tr>\n",
       "    <tr>\n",
       "      <th>8</th>\n",
       "      <td>623415</td>\n",
       "      <td>laryngite:1;causes:1;faq:1;symptomes:1;traitem...</td>\n",
       "      <td>44</td>\n",
       "      <td>0</td>\n",
       "    </tr>\n",
       "    <tr>\n",
       "      <th>9</th>\n",
       "      <td>1294086</td>\n",
       "      <td>ces:1;jeunes:1;penn:1;elmaleh:1;celebrites:1;a...</td>\n",
       "      <td>40</td>\n",
       "      <td>0</td>\n",
       "    </tr>\n",
       "    <tr>\n",
       "      <th>10</th>\n",
       "      <td>557695</td>\n",
       "      <td>les:1;plateau:1;programme:1;nouveau:1;28a86c91...</td>\n",
       "      <td>67</td>\n",
       "      <td>1</td>\n",
       "    </tr>\n",
       "  </tbody>\n",
       "</table>\n",
       "</div>"
      ],
      "text/plain": [
       "         ID                                           keywords  age  sex\n",
       "1    361410  forum:3;contrat:1;calcul:3;conges:1;mission:4;...   47    0\n",
       "2    211450  villa:1;location:2;aquitaine:2;maison:1;vacanc...   61    1\n",
       "3   1368807  trafic:1;tournante:1;drogue:1;france:1;plaque:...   45    0\n",
       "4   3502570  trafic:1;septembre:1;greve:1;sncf:1;sortir:1;p...   22    0\n",
       "5   2027488  darmanin:1;pour:1;ferme:1;jcms:1;conjoncture:1...   55    0\n",
       "6   1416034  pinel:1;seront:1;prolonges:1;jcms:1;mais:1;p1_...   57    0\n",
       "7    625475  ruent:1;28a86c911c0f:1;article:1;8f28:1;scpi_c...   34    1\n",
       "8    623415  laryngite:1;causes:1;faq:1;symptomes:1;traitem...   44    0\n",
       "9   1294086  ces:1;jeunes:1;penn:1;elmaleh:1;celebrites:1;a...   40    0\n",
       "10   557695  les:1;plateau:1;programme:1;nouveau:1;28a86c91...   67    1"
      ]
     },
     "execution_count": 30,
     "metadata": {},
     "output_type": "execute_result"
    }
   ],
   "source": [
    "df = df[df[\"keywords\"].str.contains(\"\\:\")] #keeping only lines keyword stored\n",
    "df.to_csv(\"train_clean.csv\",index=False,sep=',')\n",
    "print(df)\n",
    "df.head(10)"
   ]
  },
  {
   "cell_type": "markdown",
   "id": "possible-asian",
   "metadata": {},
   "source": [
    "## CLEANING TESTING DATASSET"
   ]
  },
  {
   "cell_type": "code",
   "execution_count": 31,
   "id": "aerial-garlic",
   "metadata": {},
   "outputs": [],
   "source": [
    "test=pd.read_csv(\"C:/Users/Administrateur/OneDrive/Bureau/ESCPTerm2/NLP/small_test.csv\")  # [499999 rows x 4 columns]\n",
    "test.dropna(subset=[\"keywords\"], inplace=True) #[442190 rows x 4 columns]\n",
    "test = test[test[\"keywords\"].str.contains(\"\\:\")] #keeping only lines keyword stored, [442189 rows x 4 columns], we just lost one line"
   ]
  },
  {
   "cell_type": "markdown",
   "id": "clean-growing",
   "metadata": {},
   "source": [
    "## TF-IDF VECTORIZER"
   ]
  },
  {
   "cell_type": "code",
   "execution_count": 32,
   "id": "linear-makeup",
   "metadata": {},
   "outputs": [
    {
     "name": "stdout",
     "output_type": "stream",
     "text": [
      "(706792,)\n",
      "(176698,)\n",
      "(706792,)\n",
      "(176698,)\n",
      "(706792,)\n",
      "(176698,)\n"
     ]
    }
   ],
   "source": [
    "#Splitting the training dataset into train and test dataset\n",
    "X_train,X_test,y_train,y_test,z_train,z_test = train_test_split(df[\"keywords\"],df[\"sex\"],df[\"age\"], test_size = 0.2, random_state = 42)\n",
    "print(X_train.shape)\n",
    "print(X_test.shape)\n",
    "print(y_train.shape)\n",
    "print(y_test.shape)\n",
    "print(z_train.shape)\n",
    "print(z_test.shape)"
   ]
  },
  {
   "cell_type": "code",
   "execution_count": 33,
   "id": "affiliated-insulation",
   "metadata": {},
   "outputs": [
    {
     "name": "stdout",
     "output_type": "stream",
     "text": [
      "Vocabulary size: 227826\n"
     ]
    }
   ],
   "source": [
    "vc_tf_idf = TfidfVectorizer()\n",
    "vc_tf_idf.fit(X_train.apply(lambda x: np.str_(x)))\n",
    "print(\"Vocabulary size: {}\".format(len(vc_tf_idf.vocabulary_)))\n",
    "X_train_df = vc_tf_idf.transform(X_train.apply(lambda x: np.str_(x)))\n",
    "X_train_df[:3].nonzero()\n",
    "prediction = dict()"
   ]
  },
  {
   "cell_type": "code",
   "execution_count": 34,
   "id": "korean-patrick",
   "metadata": {},
   "outputs": [],
   "source": [
    "# choosing the best features/model, here I tested all the model in order to fin the best one\n",
    "from sklearn.linear_model import LogisticRegression\n",
    "from sklearn.ensemble import RandomForestClassifier\n",
    "from sklearn.naive_bayes import MultinomialNB"
   ]
  },
  {
   "cell_type": "code",
   "execution_count": 39,
   "id": "characteristic-formula",
   "metadata": {},
   "outputs": [],
   "source": [
    "models = [LogisticRegression(max_iter=10000), MultinomialNB(), RandomForestClassifier(n_estimators=2000,max_depth=8)]\n",
    "#LogisticRegression(random_state=0,solver='lbfgs', max_iter=10000)"
   ]
  },
  {
   "cell_type": "code",
   "execution_count": null,
   "id": "spanish-harvest",
   "metadata": {},
   "outputs": [],
   "source": [
    "CREATION OF SEVERAL MODEL TO TEST TO PREDICT SEX VARIABLE"
   ]
  },
  {
   "cell_type": "code",
   "execution_count": null,
   "id": "independent-knitting",
   "metadata": {},
   "outputs": [],
   "source": [
    "Build model for \"Sex\" and store result"
   ]
  },
  {
   "cell_type": "code",
   "execution_count": 40,
   "id": "german-operator",
   "metadata": {},
   "outputs": [
    {
     "name": "stdout",
     "output_type": "stream",
     "text": [
      "LogisticRegression(max_iter=10000)\n",
      "accuracy: 0.6168434277694145\n",
      "confusion matrix\n",
      "[[68186 26532]\n",
      " [41171 40809]]\n",
      "normalized confusion matrix\n",
      "[[0.71988429 0.28011571]\n",
      " [0.50220786 0.49779214]]\n",
      " \n",
      "\n",
      "              precision    recall  f1-score   support\n",
      "\n",
      "           0       0.62      0.72      0.67     94718\n",
      "           1       0.61      0.50      0.55     81980\n",
      "\n",
      "    accuracy                           0.62    176698\n",
      "   macro avg       0.61      0.61      0.61    176698\n",
      "weighted avg       0.62      0.62      0.61    176698\n",
      "\n",
      "train score: 0.6772289443004448\n"
     ]
    },
    {
     "data": {
      "image/png": "[encoded data removed]",
      "text/plain": [
       "<Figure size 432x288 with 1 Axes>"
      ]
     },
     "metadata": {
      "needs_background": "light"
     },
     "output_type": "display_data"
    },
    {
     "name": "stdout",
     "output_type": "stream",
     "text": [
      "MultinomialNB()\n",
      "accuracy: 0.6128365912460809\n",
      "confusion matrix\n",
      "[[71947 22771]\n",
      " [45640 36340]]\n",
      "normalized confusion matrix\n",
      "[[0.75959163 0.24040837]\n",
      " [0.55672115 0.44327885]]\n",
      " \n",
      "\n",
      "              precision    recall  f1-score   support\n",
      "\n",
      "           0       0.61      0.76      0.68     94718\n",
      "           1       0.61      0.44      0.52     81980\n",
      "\n",
      "    accuracy                           0.61    176698\n",
      "   macro avg       0.61      0.60      0.60    176698\n",
      "weighted avg       0.61      0.61      0.60    176698\n",
      "\n",
      "train score: 0.6650499722690693\n"
     ]
    },
    {
     "data": {
      "image/png": "[encoded data removed]",
      "text/plain": [
       "<Figure size 432x288 with 1 Axes>"
      ]
     },
     "metadata": {
      "needs_background": "light"
     },
     "output_type": "display_data"
    },
    {
     "name": "stdout",
     "output_type": "stream",
     "text": [
      "RandomForestClassifier(max_depth=8, n_estimators=2000)\n",
      "accuracy: 0.5542337774055167\n",
      "confusion matrix\n",
      "[[93950   768]\n",
      " [77998  3982]]\n",
      "normalized confusion matrix\n",
      "[[0.99189172 0.00810828]\n",
      " [0.95142718 0.04857282]]\n",
      " \n",
      "\n",
      "              precision    recall  f1-score   support\n",
      "\n",
      "           0       0.55      0.99      0.70     94718\n",
      "           1       0.84      0.05      0.09     81980\n",
      "\n",
      "    accuracy                           0.55    176698\n",
      "   macro avg       0.69      0.52      0.40    176698\n",
      "weighted avg       0.68      0.55      0.42    176698\n",
      "\n",
      "train score: 0.5554420536734994\n"
     ]
    },
    {
     "data": {
      "image/png": "[encoded data removed]",
      "text/plain": [
       "<Figure size 432x288 with 1 Axes>"
      ]
     },
     "metadata": {
      "needs_background": "light"
     },
     "output_type": "display_data"
    }
   ],
   "source": [
    "# testing all the models, to find the one with the highest accuracy\n",
    "#I tried using SVC algorithm but, there was a memory error, with this message:\n",
    "# MemoryError: Unable to allocate 200. MiB for an array with shape (26167568,) and data type float64\n",
    "for i in models:\n",
    "    i.fit(X_train_df, y_train)  # X_train_df: count vectors\n",
    "    X_test_df = vc_tf_idf.transform(X_test)\n",
    "    prediction[i] = i.predict(X_test_df)\n",
    "    print(str(i))\n",
    "    # assessing the model\n",
    "    from sklearn.metrics import accuracy_score, confusion_matrix, classification_report\n",
    "\n",
    "    print(\"accuracy:\", accuracy_score(y_test, prediction[i]))\n",
    "    conf_mat = confusion_matrix(y_test, prediction[i])\n",
    "    print(\"confusion matrix\", conf_mat, sep='\\n')\n",
    "    conf_mat_normalized = conf_mat.astype('float') / conf_mat.sum(axis=1)[:, np.newaxis]\n",
    "\n",
    "    print(\"normalized confusion matrix\",conf_mat_normalized, \" \", sep='\\n')\n",
    "    print()\n",
    "\n",
    "    print(classification_report(y_test, prediction[i]))\n",
    "    print(\"train score:\", i.score(X_train_df, y_train))\n",
    "\n",
    "    ax = plt.gca()\n",
    "    test_rf = plot_roc_curve(i, X_test_df, y_test, ax=ax, alpha=0.8, name=\"test\")\n",
    "    train_rf = plot_roc_curve(i, X_train_df, y_train, ax=ax, alpha=0.8, name=\"train\")\n",
    "    plt.show()\n"
   ]
  },
  {
   "cell_type": "code",
   "execution_count": null,
   "id": "lesser-bacon",
   "metadata": {},
   "outputs": [],
   "source": [
    "#we tested the algortihm with the countvectorizer vectorizer,\n",
    "#but we are getting better result with the TF-IDF vectozier"
   ]
  },
  {
   "cell_type": "code",
   "execution_count": 47,
   "id": "vocal-terrorism",
   "metadata": {},
   "outputs": [
    {
     "name": "stdout",
     "output_type": "stream",
     "text": [
      "LogisticRegression(max_iter=10000)\n",
      "accuracy: 0.6168434277694145\n",
      "confusion matrix\n",
      "[[68186 26532]\n",
      " [41171 40809]]\n",
      "normalized confusion matrix\n",
      "[[0.71988429 0.28011571]\n",
      " [0.50220786 0.49779214]]\n",
      " \n",
      "\n",
      "              precision    recall  f1-score   support\n",
      "\n",
      "           0       0.62      0.72      0.67     94718\n",
      "           1       0.61      0.50      0.55     81980\n",
      "\n",
      "    accuracy                           0.62    176698\n",
      "   macro avg       0.61      0.61      0.61    176698\n",
      "weighted avg       0.62      0.62      0.61    176698\n",
      "\n",
      "train score: 0.6772289443004448\n"
     ]
    },
    {
     "data": {
      "image/png": "[encoded data removed]",
      "text/plain": [
       "<Figure size 432x288 with 1 Axes>"
      ]
     },
     "metadata": {
      "needs_background": "light"
     },
     "output_type": "display_data"
    }
   ],
   "source": [
    "#putting the result into a dataset\n",
    "i = LogisticRegression(max_iter=10000)\n",
    "i.fit(X_train_df, y_train)  # X_train_df: count vectors\n",
    "X_test_df = vc_tf_idf.transform(X_test)\n",
    "prediction[i] = i.predict(X_test_df)\n",
    "print(str(i))\n",
    "# assessing the model\n",
    "from sklearn.metrics import accuracy_score, confusion_matrix, classification_report\n",
    "\n",
    "print(\"accuracy:\", accuracy_score(y_test, prediction[i]))\n",
    "conf_mat = confusion_matrix(y_test, prediction[i])\n",
    "print(\"confusion matrix\", conf_mat, sep='\\n')\n",
    "conf_mat_normalized = conf_mat.astype('float') / conf_mat.sum(axis=1)[:, np.newaxis]\n",
    "\n",
    "print(\"normalized confusion matrix\",conf_mat_normalized, \" \", sep='\\n')\n",
    "print()\n",
    "\n",
    "print(classification_report(y_test, prediction[i]))\n",
    "print(\"train score:\", i.score(X_train_df, y_train))\n",
    "\n",
    "ax = plt.gca()\n",
    "test_rf = plot_roc_curve(i, X_test_df, y_test, ax=ax, alpha=0.8, name=\"test\")\n",
    "train_rf = plot_roc_curve(i, X_train_df, y_train, ax=ax, alpha=0.8, name=\"train\")\n",
    "plt.show()\n",
    "X_test_final = vc_tf_idf.transform(test[\"keywords\"].apply(lambda x: np.str_(x)))\n",
    "result=pd.DataFrame()\n",
    "result[\"ID\"]=test[\"ID\"]\n",
    "\n",
    "result[\"sex_pred\"]=i.predict(X_test_final)"
   ]
  },
  {
   "cell_type": "code",
   "execution_count": 48,
   "id": "normal-surveillance",
   "metadata": {},
   "outputs": [],
   "source": [
    "X_test_final = vc_tf_idf.transform(test[\"keywords\"].apply(lambda x: np.str_(x)))\n",
    "result=pd.DataFrame()\n",
    "result[\"ID\"]=test[\"ID\"]\n",
    "\n",
    "result[\"sex_pred\"]=i.predict(X_test_final)"
   ]
  },
  {
   "cell_type": "code",
   "execution_count": 49,
   "id": "uniform-eugene",
   "metadata": {},
   "outputs": [],
   "source": [
    "result.to_csv(\"test_result.csv\",index=False,sep=',')"
   ]
  },
  {
   "cell_type": "markdown",
   "id": "other-christopher",
   "metadata": {},
   "source": [
    "## Build model for \"Age\" and store results"
   ]
  },
  {
   "cell_type": "code",
   "execution_count": 51,
   "id": "material-genius",
   "metadata": {},
   "outputs": [
    {
     "data": {
      "text/plain": [
       "SGDRegressor(alpha=1e-05, max_iter=10000, random_state=42)"
      ]
     },
     "execution_count": 51,
     "metadata": {},
     "output_type": "execute_result"
    }
   ],
   "source": [
    "from sklearn.linear_model import SGDRegressor\n",
    "sgd = SGDRegressor(alpha=0.00001,max_iter=10000,random_state=42)\n",
    "sgd.fit(X_train_df,z_train)"
   ]
  },
  {
   "cell_type": "code",
   "execution_count": 52,
   "id": "approximate-geometry",
   "metadata": {},
   "outputs": [
    {
     "name": "stdout",
     "output_type": "stream",
     "text": [
      "Mean square error:155.2508\n",
      "Mean absolute error:9.9764\n",
      "R square:  10.27%\n"
     ]
    }
   ],
   "source": [
    "from sklearn.metrics import mean_squared_error \n",
    "from sklearn.metrics import mean_absolute_error\n",
    "from sklearn.metrics import r2_score\n",
    "predictionage = dict()\n",
    "X_test_df = vc_tf_idf.transform(X_test)\n",
    "predictionage[\"sgd\"] = sgd.predict(X_test_df)\n",
    "print(\"Mean square error:%.4f\"%(mean_squared_error(z_test,predictionage[\"sgd\"])))\n",
    "print(\"Mean absolute error:%.4f\"%(mean_absolute_error(z_test,predictionage[\"sgd\"])))\n",
    "print(\"R square: \", '{:.2%}'.format(r2_score(z_test,predictionage[\"sgd\"])))"
   ]
  },
  {
   "cell_type": "code",
   "execution_count": 53,
   "id": "frozen-campaign",
   "metadata": {},
   "outputs": [
    {
     "name": "stderr",
     "output_type": "stream",
     "text": [
      "C:\\Users\\Administrateur\\anaconda3\\lib\\site-packages\\sklearn\\metrics\\_classification.py:1245: UndefinedMetricWarning: Precision and F-score are ill-defined and being set to 0.0 in labels with no predicted samples. Use `zero_division` parameter to control this behavior.\n",
      "  _warn_prf(average, modifier, msg_start, len(result))\n",
      "C:\\Users\\Administrateur\\anaconda3\\lib\\site-packages\\sklearn\\metrics\\_classification.py:1245: UndefinedMetricWarning: Precision and F-score are ill-defined and being set to 0.0 in labels with no predicted samples. Use `zero_division` parameter to control this behavior.\n",
      "  _warn_prf(average, modifier, msg_start, len(result))\n"
     ]
    },
    {
     "name": "stdout",
     "output_type": "stream",
     "text": [
      "              precision    recall  f1-score   support\n",
      "\n",
      "        10.0       0.00      0.00      0.00       404\n",
      "        20.0       0.00      0.00      0.00      9232\n",
      "        30.0       0.31      0.01      0.02     25079\n",
      "        40.0       0.36      0.55      0.43     51241\n",
      "        50.0       0.26      0.55      0.36     44397\n",
      "        60.0       0.31      0.04      0.08     30556\n",
      "        70.0       0.15      0.00      0.00     13926\n",
      "        80.0       0.00      0.00      0.00      1737\n",
      "        90.0       0.00      0.00      0.00       113\n",
      "       100.0       0.00      0.00      0.00        13\n",
      "\n",
      "    accuracy                           0.31    176698\n",
      "   macro avg       0.14      0.12      0.09    176698\n",
      "weighted avg       0.28      0.31      0.23    176698\n",
      "\n"
     ]
    },
    {
     "name": "stderr",
     "output_type": "stream",
     "text": [
      "C:\\Users\\Administrateur\\anaconda3\\lib\\site-packages\\sklearn\\metrics\\_classification.py:1245: UndefinedMetricWarning: Precision and F-score are ill-defined and being set to 0.0 in labels with no predicted samples. Use `zero_division` parameter to control this behavior.\n",
      "  _warn_prf(average, modifier, msg_start, len(result))\n"
     ]
    }
   ],
   "source": [
    "print(classification_report(np.floor((z_test+5)/10)*10,np.floor((predictionage[\"sgd\"]+5)/10)*10))\n",
    "# 10 stands for age group between 5-15, 20 stands for age group between 15-25 and so on"
   ]
  },
  {
   "cell_type": "code",
   "execution_count": 54,
   "id": "intimate-biology",
   "metadata": {},
   "outputs": [
    {
     "name": "stdout",
     "output_type": "stream",
     "text": [
      "1 stands for the precision rate of the whole test data\n",
      "0    0.691689\n",
      "1    0.308311\n",
      "Name: age, dtype: float64\n"
     ]
    }
   ],
   "source": [
    "predictionage[\"dif\"]=predictionage[\"sgd\"]-z_test\n",
    "predictionage[\"dif\"]=predictionage[\"dif\"].map(lambda x: 0 if abs(x)>5 else 1)\n",
    "print(\"1 stands for the precision rate of the whole test data\")\n",
    "print(predictionage[\"dif\"].value_counts(1))"
   ]
  },
  {
   "cell_type": "code",
   "execution_count": 55,
   "id": "confident-contract",
   "metadata": {},
   "outputs": [],
   "source": [
    "result=pd.read_csv(\"test_result.csv\")\n",
    "result[\"age_pred\"]=sgd.predict(X_test_final)\n",
    "result.to_csv(\"test_result.csv\",index=False,sep=',')"
   ]
  },
  {
   "cell_type": "markdown",
   "id": "sunset-bottle",
   "metadata": {},
   "source": [
    "## COUNT VECTORIZER TO PREDICT THE SEX (the results are better with TF-IDF)"
   ]
  },
  {
   "cell_type": "code",
   "execution_count": 12,
   "id": "unknown-status",
   "metadata": {},
   "outputs": [],
   "source": [
    "#import and remove missing values dataset \n",
    "df=pd.read_csv(\"C:/Users/Administrateur/OneDrive/Bureau/ESCPTerm2/NLP/small_train.csv\")#[883490 rows x 4 columns]\n",
    "df.dropna(inplace=True)\n",
    "df\n",
    "#replacing M by 0 and F by 1\n",
    "df[\"sex\"]=df[\"sex\"].replace(\"M\",0)\n",
    "df[\"sex\"]=df[\"sex\"].replace(\"F\",1)\n",
    "#or df['sex'] = data.sex.map({'M': 0, 'F': 1}), but this version is too long to charge \n",
    "df\n",
    "test=pd.read_csv(\"C:/Users/Administrateur/OneDrive/Bureau/ESCPTerm2/NLP/small_test.csv\")  # [499999 rows x 4 columns]\n",
    "test.dropna(subset=[\"keywords\"], inplace=True) #[442190 rows x 4 columns]\n",
    "test = test[test[\"keywords\"].str.contains(\"\\:\")] #keeping only lines keyword stored, [442189 rows x 4 columns], we just lost one line"
   ]
  },
  {
   "cell_type": "code",
   "execution_count": 13,
   "id": "published-wales",
   "metadata": {},
   "outputs": [
    {
     "name": "stdout",
     "output_type": "stream",
     "text": [
      "(706792,)\n",
      "(176698,)\n",
      "(706792,)\n",
      "(176698,)\n",
      "(706792,)\n",
      "(176698,)\n"
     ]
    }
   ],
   "source": [
    "#Splitting the training dataset into train and test dataset\n",
    "X_train,X_test,y_train,y_test,z_train,z_test = train_test_split(df[\"keywords\"],df[\"sex\"],df[\"age\"], test_size = 0.2, random_state = 42)\n",
    "print(X_train.shape)\n",
    "print(X_test.shape)\n",
    "print(y_train.shape)\n",
    "print(y_test.shape)\n",
    "print(z_train.shape)\n",
    "print(z_test.shape)"
   ]
  },
  {
   "cell_type": "code",
   "execution_count": 14,
   "id": "organizational-bidding",
   "metadata": {},
   "outputs": [
    {
     "name": "stdout",
     "output_type": "stream",
     "text": [
      "Vocabulary size: 227826\n"
     ]
    }
   ],
   "source": [
    "from sklearn.feature_extraction.text import CountVectorizer\n",
    "\n",
    "# Scikit-learn’s CountVectorizer is used to\n",
    "# convert a collection of text documents to a vector of term/token counts.\n",
    "# list of text documents\n",
    "vect = CountVectorizer()\n",
    "# we are applying CountVectorizer on our dataset\n",
    "\n",
    "vect.fit(X_train)\n",
    "# tokenize, extract tokens and build vocab, dictionary of all the tokens\n",
    "\n",
    "print(\"Vocabulary size: {}\".format(len(vect.vocabulary_)))\n",
    "# print(\"Vocabulary content:\\n {}\".format(vect.vocabulary_))\n",
    "X_train_df = vect.transform(X_train)\n",
    "# encode your data, represent your text as count vector(s)\n",
    "\n",
    "X_train_df[:3].nonzero()\n",
    "prediction = dict()"
   ]
  },
  {
   "cell_type": "code",
   "execution_count": 17,
   "id": "reserved-contributor",
   "metadata": {},
   "outputs": [
    {
     "name": "stdout",
     "output_type": "stream",
     "text": [
      "LogisticRegression(max_iter=10000, random_state=0)\n",
      "accuracy: 0.608365686085864\n",
      "confusion matrix\n",
      "[[68605 26113]\n",
      " [43088 38892]]\n",
      "normalized confusion matrix\n",
      "[[0.72430795 0.27569205]\n",
      " [0.52559161 0.47440839]]\n",
      " \n",
      "\n",
      "              precision    recall  f1-score   support\n",
      "\n",
      "           0       0.61      0.72      0.66     94718\n",
      "           1       0.60      0.47      0.53     81980\n",
      "\n",
      "    accuracy                           0.61    176698\n",
      "   macro avg       0.61      0.60      0.60    176698\n",
      "weighted avg       0.61      0.61      0.60    176698\n",
      "\n",
      "train score: 0.6980879806223047\n"
     ]
    },
    {
     "data": {
      "image/png": "[encoded data removed]",
      "text/plain": [
       "<Figure size 432x288 with 1 Axes>"
      ]
     },
     "metadata": {
      "needs_background": "light"
     },
     "output_type": "display_data"
    },
    {
     "name": "stdout",
     "output_type": "stream",
     "text": [
      "MultinomialNB()\n",
      "accuracy: 0.6040985183759862\n",
      "confusion matrix\n",
      "[[77840 16878]\n",
      " [53077 28903]]\n",
      "normalized confusion matrix\n",
      "[[0.82180789 0.17819211]\n",
      " [0.6474384  0.3525616 ]]\n",
      " \n",
      "\n",
      "              precision    recall  f1-score   support\n",
      "\n",
      "           0       0.59      0.82      0.69     94718\n",
      "           1       0.63      0.35      0.45     81980\n",
      "\n",
      "    accuracy                           0.60    176698\n",
      "   macro avg       0.61      0.59      0.57    176698\n",
      "weighted avg       0.61      0.60      0.58    176698\n",
      "\n",
      "train score: 0.6412565507249658\n"
     ]
    },
    {
     "data": {
      "image/png": "[encoded data removed]",
      "text/plain": [
       "<Figure size 432x288 with 1 Axes>"
      ]
     },
     "metadata": {
      "needs_background": "light"
     },
     "output_type": "display_data"
    },
    {
     "name": "stdout",
     "output_type": "stream",
     "text": [
      "RandomForestClassifier(max_depth=8, n_estimators=2000)\n",
      "accuracy: 0.5545507023282663\n",
      "confusion matrix\n",
      "[[93939   779]\n",
      " [77931  4049]]\n",
      "normalized confusion matrix\n",
      "[[0.99177559 0.00822441]\n",
      " [0.9506099  0.0493901 ]]\n",
      " \n",
      "\n",
      "              precision    recall  f1-score   support\n",
      "\n",
      "           0       0.55      0.99      0.70     94718\n",
      "           1       0.84      0.05      0.09     81980\n",
      "\n",
      "    accuracy                           0.55    176698\n",
      "   macro avg       0.69      0.52      0.40    176698\n",
      "weighted avg       0.68      0.55      0.42    176698\n",
      "\n",
      "train score: 0.5558155723324543\n"
     ]
    },
    {
     "data": {
      "image/png": "[encoded data removed]",
      "text/plain": [
       "<Figure size 432x288 with 1 Axes>"
      ]
     },
     "metadata": {
      "needs_background": "light"
     },
     "output_type": "display_data"
    }
   ],
   "source": [
    "# testing all the models, to find the one with the highest accuracy\n",
    "for i in models:\n",
    "    i.fit(X_train_df, y_train)  # X_train_df: count vectors\n",
    "    X_test_df = vect.transform(X_test)\n",
    "    prediction[i] = i.predict(X_test_df)\n",
    "    print(str(i))\n",
    "    # assessing the model\n",
    "    from sklearn.metrics import accuracy_score, confusion_matrix, classification_report\n",
    "\n",
    "    print(\"accuracy:\", accuracy_score(y_test, prediction[i]))\n",
    "    conf_mat = confusion_matrix(y_test, prediction[i])\n",
    "    print(\"confusion matrix\", conf_mat, sep='\\n')\n",
    "    conf_mat_normalized = conf_mat.astype('float') / conf_mat.sum(axis=1)[:, np.newaxis]\n",
    "\n",
    "    print(\"normalized confusion matrix\",conf_mat_normalized, \" \", sep='\\n')\n",
    "    print()\n",
    "\n",
    "    print(classification_report(y_test, prediction[i]))\n",
    "    print(\"train score:\", i.score(X_train_df, y_train))\n",
    "\n",
    "    ax = plt.gca()\n",
    "    test_rf = plot_roc_curve(i, X_test_df, y_test, ax=ax, alpha=0.8, name=\"test\")\n",
    "    train_rf = plot_roc_curve(i, X_train_df, y_train, ax=ax, alpha=0.8, name=\"train\")\n",
    "    plt.show()\n"
   ]
  },
  {
   "cell_type": "code",
   "execution_count": null,
   "id": "czech-rates",
   "metadata": {},
   "outputs": [],
   "source": [
    "#The results, comparing the best models\n",
    "#For every vectorizer, the best model is the logistic regression model with TF-IDF with an accuracy of \n",
    "#approximatively 0.62 percent"
   ]
  }
 ],
 "metadata": {
  "kernelspec": {
   "display_name": "Python 3",
   "language": "python",
   "name": "python3"
  },
  "language_info": {
   "codemirror_mode": {
    "name": "ipython",
    "version": 3
   },
   "file_extension": ".py",
   "mimetype": "text/x-python",
   "name": "python",
   "nbconvert_exporter": "python",
   "pygments_lexer": "ipython3",
   "version": "3.8.5"
  }
 },
 "nbformat": 4,
 "nbformat_minor": 5
}
